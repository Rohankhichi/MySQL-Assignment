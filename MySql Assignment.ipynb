{
 "cells": [
  {
   "cell_type": "markdown",
   "id": "928c7e76-f45c-4406-a1ea-b79ca4b94251",
   "metadata": {},
   "source": [
    "Q1. What is a database? Differentiate between SQL and NoSQL databases."
   ]
  },
  {
   "cell_type": "markdown",
   "id": "40e729e7-d43d-418c-afc4-4eaa563f0271",
   "metadata": {},
   "source": [
    "Ans1. A database is an organized collection of structured information, or data, typically stored electronically in a computer system. SQL and MySQL are database-related languages. While SQL is a programming language used to work with data in relational databases, MySQL is an open-source database product that implements the SQL standard."
   ]
  },
  {
   "cell_type": "markdown",
   "id": "b632e6f9-7282-4f75-b5e2-d55ff88cc05c",
   "metadata": {},
   "source": [
    "Q2. What is DDL? Explain why CREATE, DROP, ALTER, and TRUNCATE are used with an example."
   ]
  },
  {
   "cell_type": "markdown",
   "id": "234aaf14-b3d6-4d62-96ee-073de1ac070c",
   "metadata": {},
   "source": [
    "Ans2. Data Definition Language(DDL) is a subset of SQL and a part of DBMS(Database Management System). DDL consist of Commands to commands like CREATE, ALTER, TRUNCATE and DROP. These commands are used to create or modify the tables in SQL."
   ]
  },
  {
   "cell_type": "markdown",
   "id": "40f03cc6-8dd1-421f-8405-54bcf100229c",
   "metadata": {},
   "source": [
    "Command-1 :\n",
    "CREATE :\n",
    "This command is used to create a new table in SQL. The user has to give information like table name, column names, and their datatypes.\n",
    "\n",
    "Syntax –\n",
    "\n",
    "CREATE TABLE table_name\n",
    "(\n",
    "column_1 datatype,\n",
    "column_2 datatype,\n",
    "column_3 datatype,\n",
    "....\n",
    ");\n",
    "Example –\n",
    "We need to create a table for storing Student information of a particular College. Create syntax would be as below.\n",
    "\n",
    "CREATE TABLE Student_info\n",
    "(\n",
    "College_Id number(2),\n",
    "College_name varchar(30),\n",
    "Branch varchar(10)\n",
    ");\n",
    "Command-2 :\n",
    "ALTER :\n",
    "This command is used to add, delete or change columns in the existing table. The user needs to know the existing table name and can do add, delete or modify tasks easily.\n",
    "\n",
    "Syntax –\n",
    "Syntax to add a column to an existing table.\n",
    "\n",
    "ALTER TABLE table_name\n",
    "ADD column_name datatype;\n",
    "Example –\n",
    "In our Student_info table, we want to add a new column for CGPA. The syntax would be as below as follows.\n",
    "\n",
    "ALTER TABLE Student_info\n",
    "ADD CGPA number;\n",
    "Command-3 :\n",
    "TRUNCATE :\n",
    "This command is used to remove all rows from the table, but the structure of the table still exists.\n",
    "\n",
    "Syntax –\n",
    "Syntax to remove an existing table.\n",
    "\n",
    "TRUNCATE TABLE table_name;\n",
    "Example –\n",
    "The College Authority wants to remove the details of all students for new batches but wants to keep the table structure. The command they can use is as follows.\n",
    "\n",
    "\n",
    "TRUNCATE TABLE Student_info;\n",
    "Command-4 :\n",
    "DROP :\n",
    "This command is used to remove an existing table along with its structure from the Database.\n",
    "\n",
    "Syntax –\n",
    "Syntax to drop an existing table.\n",
    "\n",
    "DROP TABLE table_name;\n",
    "Example –\n",
    "If the College Authority wants to change their Database by deleting the Student_info Table. \n",
    "\n",
    "DROP TABLE Student_info;"
   ]
  },
  {
   "cell_type": "markdown",
   "id": "19fb6208-2be9-4f97-ab2f-beeaec704583",
   "metadata": {},
   "source": [
    "Q3. What is DML? Explain INSERT, UPDATE, and DELETE with an example."
   ]
  },
  {
   "cell_type": "markdown",
   "id": "63a7432e-37c4-4792-8729-d15a98db94dd",
   "metadata": {},
   "source": [
    "Ans3. A DML (data manipulation language) refers to a computer programming language that allows you to add (insert), delete (delete), and alter (update) data in a database. A DML is typically a sublanguage of a larger database language like SQL, with the DML containing some of the language's operators."
   ]
  },
  {
   "cell_type": "markdown",
   "id": "0cd9ef51-d4a8-4076-9e32-ae0bae747662",
   "metadata": {},
   "source": [
    "INSERT Command\n",
    "This command is used to enter the information or values into a row. We can connect one or more records to a single table within a repository using this instruction. This is often used to connect an unused tag to the documents.\n",
    "\n",
    "Syntax:\n",
    "\n",
    "INSERT INTO <table_name> ('column_name1' <datatype>, 'column_name2' <datatype>)\n",
    "VALUES ('value1', 'value2'); \n",
    "Example :\n",
    "\n",
    "INSERT INTO students ('stu_id' int, 'stu_name' varchar(20), 'city' varchar(20))\n",
    "VALUES ('1', 'Nirmit', 'Gorakhpur'); \n",
    "    \n",
    "UPDATE Command\n",
    "This command is used to alter existing table records. Within a table, it modifies data from one or more records. This command is used to alter the data which is already present in a table.\n",
    "\n",
    "Syntax:\n",
    "\n",
    "UPDATE <table_name>\n",
    "SET <column_name = value>\n",
    "WHERE condition; \n",
    "Example:\n",
    "\n",
    "UPDATE students\n",
    "SET due_fees = 20000\n",
    "WHERE stu_name = 'Mini';\n",
    "DELETE Command\n",
    "It deletes all archives from a table. This command is used to erase some or all of the previous table’s records. If we do not specify the ‘WHERE’ condition then all the rows would be erased or deleted.\n",
    "\n",
    "Syntax:\n",
    "\n",
    "DELETE FROM <table_name>\n",
    "WHERE <condition>; \n",
    "Example:\n",
    "\n",
    "DELETE FROM students\n",
    "WHERE stu_id = '001'; "
   ]
  },
  {
   "cell_type": "markdown",
   "id": "8b46925e-1d48-4d2a-836a-3c62118fde47",
   "metadata": {},
   "source": [
    "Q4. What is DQL? Explain SELECT with an example."
   ]
  },
  {
   "cell_type": "markdown",
   "id": "d0f3b4f6-61e9-46d2-9bf3-2e07c4ef3d5d",
   "metadata": {},
   "source": [
    "Ans4. DQL is a portion of a SQL statement that allows you to get and organise data from a database. You can use the SELECT command to extract data from a database in order to perform actions on it. It is the same as the projection operation in relational algebra."
   ]
  },
  {
   "cell_type": "markdown",
   "id": "ca268b6f-3b8d-416c-bd71-48dfc41e566d",
   "metadata": {},
   "source": [
    "Q5. Explain Primary Key and Foreign Key."
   ]
  },
  {
   "cell_type": "markdown",
   "id": "7d70ee96-c38d-4dc2-b853-446e2dba6bcb",
   "metadata": {},
   "source": [
    "A primary key is used to ensure data in the specific column is unique. A foreign key is a column or group of columns in a relational database table that provides a link between data in two tables.08-May-2023"
   ]
  },
  {
   "cell_type": "markdown",
   "id": "ccbd6bbc-94cb-4ef1-affe-729e8f93bacc",
   "metadata": {},
   "source": [
    "Q6. Write a python code to connect MySQL to python. Explain the cursor() and execute() method."
   ]
  },
  {
   "cell_type": "markdown",
   "id": "5627fcbb-ce4a-4d68-8856-b658be3a997b",
   "metadata": {},
   "source": [
    "Ans6. import mysql.connector\n",
    "\n",
    "#establishing the connection\n",
    "conn = mysql.connector.connect(\n",
    "   user='root', password='password', host='127.0.0.1', database='mydb'\n",
    ")\n",
    "#Creating a cursor object using the cursor() method\n",
    "cursor = conn.cursor()"
   ]
  },
  {
   "cell_type": "markdown",
   "id": "c200dd9d-4d22-4c82-91ee-f14098168a2b",
   "metadata": {},
   "source": [
    "Q7. Give the order of execution of SQL clauses in an SQL query."
   ]
  },
  {
   "cell_type": "markdown",
   "id": "3c9054f4-2ff3-4376-a380-a413fee8c211",
   "metadata": {},
   "source": [
    "Ans7. Order\tClause\tFunction\n",
    "1\tFROM\tTables are joined to get the base data.\n",
    "2\tWHERE\tThe base data is filtered.\n",
    "3\tGROUP BY\tThe filtered base data is grouped.\n",
    "4\tHAVING\tThe grouped base data is filtered.\n",
    "5\tSELECT\tThe final data is returned.\n",
    "6\tORDER BY\tThe final data is sorted.\n",
    "7\tLIMIT\tThe returned data is limited to row count."
   ]
  },
  {
   "cell_type": "code",
   "execution_count": null,
   "id": "dc738c92-c1a6-4cca-8c57-64ee2d22e5c1",
   "metadata": {},
   "outputs": [],
   "source": []
  }
 ],
 "metadata": {
  "kernelspec": {
   "display_name": "Python 3 (ipykernel)",
   "language": "python",
   "name": "python3"
  },
  "language_info": {
   "codemirror_mode": {
    "name": "ipython",
    "version": 3
   },
   "file_extension": ".py",
   "mimetype": "text/x-python",
   "name": "python",
   "nbconvert_exporter": "python",
   "pygments_lexer": "ipython3",
   "version": "3.10.8"
  }
 },
 "nbformat": 4,
 "nbformat_minor": 5
}
